{
 "cells": [
  {
   "cell_type": "markdown",
   "id": "74fb5622",
   "metadata": {},
   "source": [
    "# Title"
   ]
  },
  {
   "cell_type": "code",
   "execution_count": null,
   "id": "7aafe06e",
   "metadata": {},
   "outputs": [],
   "source": [
    "# use a hashtag and a space then markdown for the above font "
   ]
  },
  {
   "cell_type": "markdown",
   "id": "967f8d51",
   "metadata": {},
   "source": [
    "## Headline"
   ]
  },
  {
   "cell_type": "code",
   "execution_count": 7,
   "id": "5a950393",
   "metadata": {},
   "outputs": [],
   "source": [
    "# use 2 hashtag and a space then markdown for the above font "
   ]
  },
  {
   "cell_type": "markdown",
   "id": "30393272",
   "metadata": {},
   "source": [
    "### Headline 2"
   ]
  },
  {
   "cell_type": "code",
   "execution_count": null,
   "id": "d27d46ab",
   "metadata": {},
   "outputs": [],
   "source": [
    "# The more hashtags used the smaller the font. Markdown creates a title rather than coding it  "
   ]
  }
 ],
 "metadata": {
  "kernelspec": {
   "display_name": "Python 3 (ipykernel)",
   "language": "python",
   "name": "python3"
  },
  "language_info": {
   "codemirror_mode": {
    "name": "ipython",
    "version": 3
   },
   "file_extension": ".py",
   "mimetype": "text/x-python",
   "name": "python",
   "nbconvert_exporter": "python",
   "pygments_lexer": "ipython3",
   "version": "3.9.12"
  }
 },
 "nbformat": 4,
 "nbformat_minor": 5
}
